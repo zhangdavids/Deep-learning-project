{
 "cells": [
  {
   "cell_type": "markdown",
   "metadata": {
    "collapsed": true
   },
   "source": [
    "# Image Classification\n",
    "In this project, you'll classify images from the [CIFAR-10 dataset](https://www.cs.toronto.edu/~kriz/cifar.html).  The dataset consists of airplanes, dogs, cats, and other objects. You'll preprocess the images, then train a convolutional neural network on all the samples. The images need to be normalized and the labels need to be one-hot encoded.  You'll get to apply what you learned and build a convolutional, max pooling, dropout, and fully connected layers.  At the end, you'll get to see your neural network's predictions on the sample images.\n",
    "## Get the Data\n",
    "Run the following cell to download the [CIFAR-10 dataset for python](https://www.cs.toronto.edu/~kriz/cifar-10-python.tar.gz)."
   ]
  },
  {
   "cell_type": "code",
   "execution_count": 44,
   "metadata": {
    "collapsed": false
   },
   "outputs": [
    {
     "name": "stdout",
     "output_type": "stream",
     "text": [
      "All files found!\n"
     ]
    }
   ],
   "source": [
    "\"\"\"\n",
    "DON'T MODIFY ANYTHING IN THIS CELL THAT IS BELOW THIS LINE\n",
    "\"\"\"\n",
    "from urllib.request import urlretrieve\n",
    "from os.path import isfile, isdir\n",
    "from tqdm import tqdm\n",
    "import problem_unittests as tests\n",
    "import tarfile\n",
    "\n",
    "cifar10_dataset_folder_path = 'cifar-10-batches-py'\n",
    "\n",
    "class DLProgress(tqdm):\n",
    "    last_block = 0\n",
    "\n",
    "    def hook(self, block_num=1, block_size=1, total_size=None):\n",
    "        self.total = total_size\n",
    "        self.update((block_num - self.last_block) * block_size)\n",
    "        self.last_block = block_num\n",
    "\n",
    "if not isfile('cifar-10-python.tar.gz'):\n",
    "    with DLProgress(unit='B', unit_scale=True, miniters=1, desc='CIFAR-10 Dataset') as pbar:\n",
    "        urlretrieve(\n",
    "            'https://www.cs.toronto.edu/~kriz/cifar-10-python.tar.gz',\n",
    "            'cifar-10-python.tar.gz',\n",
    "            pbar.hook)\n",
    "\n",
    "if not isdir(cifar10_dataset_folder_path):\n",
    "    with tarfile.open('cifar-10-python.tar.gz') as tar:\n",
    "        tar.extractall()\n",
    "        tar.close()\n",
    "\n",
    "\n",
    "tests.test_folder_path(cifar10_dataset_folder_path)"
   ]
  },
  {
   "cell_type": "markdown",
   "metadata": {},
   "source": [
    "## Explore the Data\n",
    "The dataset is broken into batches to prevent your machine from running out of memory.  The CIFAR-10 dataset consists of 5 batches, named `data_batch_1`, `data_batch_2`, etc.. Each batch contains the labels and images that are one of the following:\n",
    "* airplane\n",
    "* automobile\n",
    "* bird\n",
    "* cat\n",
    "* deer\n",
    "* dog\n",
    "* frog\n",
    "* horse\n",
    "* ship\n",
    "* truck\n",
    "\n",
    "Understanding a dataset is part of making predictions on the data.  Play around with the code cell below by changing the `batch_id` and `sample_id`. The `batch_id` is the id for a batch (1-5). The `sample_id` is the id for a image and label pair in the batch.\n",
    "\n",
    "Ask yourself \"What are all possible labels?\", \"What is the range of values for the image data?\", \"Are the labels in order or random?\".  Answers to questions like these will help you preprocess the data and end up with better predictions."
   ]
  },
  {
   "cell_type": "code",
   "execution_count": 65,
   "metadata": {
    "collapsed": false
   },
   "outputs": [
    {
     "name": "stdout",
     "output_type": "stream",
     "text": [
      "\n",
      "Stats of batch 1:\n",
      "Samples: 10000\n",
      "Label Counts: {0: 1005, 1: 974, 2: 1032, 3: 1016, 4: 999, 5: 937, 6: 1030, 7: 1001, 8: 1025, 9: 981}\n",
      "First 20 Labels: [6, 9, 9, 4, 1, 1, 2, 7, 8, 3, 4, 7, 7, 2, 9, 9, 9, 3, 2, 6]\n",
      "\n",
      "Example of Image 550:\n",
      "Image - Min Value: 5 Max Value: 222\n",
      "Image - Shape: (32, 32, 3)\n",
      "Label - Label Id: 3 Name: cat\n"
     ]
    },
    {
     "data": {
      "image/png": "[encoded data removed]",
      "text/plain": [
       "<matplotlib.figure.Figure at 0x1107fdfd0>"
      ]
     },
     "metadata": {
      "image/png": {
       "height": 250,
       "width": 253
      }
     },
     "output_type": "display_data"
    }
   ],
   "source": [
    "%matplotlib inline\n",
    "%config InlineBackend.figure_format = 'retina'\n",
    "\n",
    "import helper\n",
    "import numpy as np\n",
    "\n",
    "# Explore the dataset\n",
    "batch_id = 1\n",
    "sample_id = 550\n",
    "helper.display_stats(cifar10_dataset_folder_path, batch_id, sample_id)"
   ]
  },
  {
   "cell_type": "markdown",
   "metadata": {},
   "source": [
    "## Implement Preprocess Functions\n",
    "### Normalize\n",
    "In the cell below, implement the `normalize` function to take in image data, `x`, and return it as a normalized Numpy array. The values should be in the range of 0 to 1, inclusive.  The return object should be the same shape as `x`."
   ]
  },
  {
   "cell_type": "code",
   "execution_count": 66,
   "metadata": {
    "collapsed": false
   },
   "outputs": [
    {
     "name": "stdout",
     "output_type": "stream",
     "text": [
      "Tests Passed\n"
     ]
    }
   ],
   "source": [
    "# from  sklearn import preprocessing\n",
    "# from numpy import linalg as LA\n",
    "\n",
    "def normalize(x):\n",
    "    \"\"\"\n",
    "    Normalize a list of sample image data in the range of 0 to 1\n",
    "    : x: List of image data.  The image shape is (32, 32, 3)\n",
    "    : return: Numpy array of normalize data\n",
    "    \"\"\"\n",
    "    # TODO: Implement Function\n",
    "#     a = x[:1]\n",
    "#     b = [y for x in a for y in x]\n",
    "#     print(b[0])\n",
    "#     print(len(b))\n",
    "#     return LA.norm(b[0])\n",
    "    x_normed = x / x.max(axis=0)\n",
    "    return x_normed\n",
    "\n",
    "\n",
    "\"\"\"\n",
    "DON'T MODIFY ANYTHING IN THIS CELL THAT IS BELOW THIS LINE\n",
    "\"\"\"\n",
    "tests.test_normalize(normalize)"
   ]
  },
  {
   "cell_type": "markdown",
   "metadata": {},
   "source": [
    "### One-hot encode\n",
    "Just like the previous code cell, you'll be implementing a function for preprocessing.  This time, you'll implement the `one_hot_encode` function. The input, `x`, are a list of labels.  Implement the function to return the list of labels as One-Hot encoded Numpy array.  The possible values for labels are 0 to 9. The one-hot encoding function should return the same encoding for each value between each call to `one_hot_encode`.  Make sure to save the map of encodings outside the function.\n",
    "\n",
    "Hint: Don't reinvent the wheel."
   ]
  },
  {
   "cell_type": "code",
   "execution_count": 47,
   "metadata": {
    "collapsed": false
   },
   "outputs": [
    {
     "name": "stdout",
     "output_type": "stream",
     "text": [
      "Tests Passed\n"
     ]
    }
   ],
   "source": [
    "def one_hot_encode(x):\n",
    "    \"\"\"\n",
    "    One hot encode a list of sample labels. Return a one-hot encoded vector for each label.\n",
    "    : x: List of sample Labels\n",
    "    : return: Numpy array of one-hot encoded labels\n",
    "    \"\"\"\n",
    "    # TODO: Implement Function\n",
    "    # use [0, 0, 0, 0, 0, 0, 0, 0, 1, 0] show 8\n",
    "    b = []\n",
    "    for i in x:\n",
    "        b.append(np.eye(10)[i])\n",
    "    return np.asarray(b)\n",
    "    \n",
    "\n",
    "\n",
    "\"\"\"\n",
    "DON'T MODIFY ANYTHING IN THIS CELL THAT IS BELOW THIS LINE\n",
    "\"\"\"\n",
    "tests.test_one_hot_encode(one_hot_encode)"
   ]
  },
  {
   "cell_type": "markdown",
   "metadata": {},
   "source": [
    "### Randomize Data\n",
    "As you saw from exploring the data above, the order of the samples are randomized.  It doesn't hurt to randomize it again, but you don't need to for this dataset."
   ]
  },
  {
   "cell_type": "markdown",
   "metadata": {},
   "source": [
    "## Preprocess all the data and save it\n",
    "Running the code cell below will preprocess all the CIFAR-10 data and save it to file. The code below also uses 10% of the training data for validation."
   ]
  },
  {
   "cell_type": "code",
   "execution_count": 48,
   "metadata": {
    "collapsed": false
   },
   "outputs": [],
   "source": [
    "\"\"\"\n",
    "DON'T MODIFY ANYTHING IN THIS CELL\n",
    "\"\"\"\n",
    "# Preprocess Training, Validation, and Testing Data\n",
    "helper.preprocess_and_save_data(cifar10_dataset_folder_path, normalize, one_hot_encode)"
   ]
  },
  {
   "cell_type": "markdown",
   "metadata": {},
   "source": [
    "# Check Point\n",
    "This is your first checkpoint.  If you ever decide to come back to this notebook or have to restart the notebook, you can start from here.  The preprocessed data has been saved to disk."
   ]
  },
  {
   "cell_type": "code",
   "execution_count": 49,
   "metadata": {
    "collapsed": true
   },
   "outputs": [],
   "source": [
    "\"\"\"\n",
    "DON'T MODIFY ANYTHING IN THIS CELL\n",
    "\"\"\"\n",
    "import pickle\n",
    "import problem_unittests as tests\n",
    "import helper\n",
    "\n",
    "# Load the Preprocessed Validation data\n",
    "valid_features, valid_labels = pickle.load(open('preprocess_validation.p', mode='rb'))"
   ]
  },
  {
   "cell_type": "markdown",
   "metadata": {},
   "source": [
    "## Build the network\n",
    "For the neural network, you'll build each layer into a function.  Most of the code you've seen has been outside of functions. To test your code more thoroughly, we require that you put each layer in a function.  This allows us to give you better feedback and test for simple mistakes using our unittests before you submit your project.\n",
    "\n",
    "If you're finding it hard to dedicate enough time for this course a week, we've provided a small shortcut to this part of the project. In the next couple of problems, you'll have the option to use [TensorFlow Layers](https://www.tensorflow.org/api_docs/python/tf/layers) or [TensorFlow Layers (contrib)](https://www.tensorflow.org/api_guides/python/contrib.layers) to build each layer, except \"Convolutional & Max Pooling\" layer.  TF Layers is similar to Keras's and TFLearn's abstraction to layers, so it's easy to pickup.\n",
    "\n",
    "If you would like to get the most of this course, try to solve all the problems without TF Layers.  Let's begin!\n",
    "### Input\n",
    "The neural network needs to read the image data, one-hot encoded labels, and dropout keep probability. Implement the following functions\n",
    "* Implement `neural_net_image_input`\n",
    " * Return a [TF Placeholder](https://www.tensorflow.org/api_docs/python/tf/placeholder)\n",
    " * Set the shape using `image_shape` with batch size set to `None`.\n",
    " * Name the TensorFlow placeholder \"x\" using the TensorFlow `name` parameter in the [TF Placeholder](https://www.tensorflow.org/api_docs/python/tf/placeholder).\n",
    "* Implement `neural_net_label_input`\n",
    " * Return a [TF Placeholder](https://www.tensorflow.org/api_docs/python/tf/placeholder)\n",
    " * Set the shape using `n_classes` with batch size set to `None`.\n",
    " * Name the TensorFlow placeholder \"y\" using the TensorFlow `name` parameter in the [TF Placeholder](https://www.tensorflow.org/api_docs/python/tf/placeholder).\n",
    "* Implement `neural_net_keep_prob_input`\n",
    " * Return a [TF Placeholder](https://www.tensorflow.org/api_docs/python/tf/placeholder) for dropout keep probability.\n",
    " * Name the TensorFlow placeholder \"keep_prob\" using the TensorFlow `name` parameter in the [TF Placeholder](https://www.tensorflow.org/api_docs/python/tf/placeholder).\n",
    "\n",
    "These names will be used at the end of the project to load your saved model.\n",
    "\n",
    "Note: `None` for shapes in TensorFlow allow for a dynamic size."
   ]
  },
  {
   "cell_type": "code",
   "execution_count": 67,
   "metadata": {
    "collapsed": false
   },
   "outputs": [
    {
     "name": "stdout",
     "output_type": "stream",
     "text": [
      "Image Input Tests Passed.\n",
      "Label Input Tests Passed.\n",
      "Keep Prob Tests Passed.\n"
     ]
    }
   ],
   "source": [
    "import tensorflow as tf\n",
    "\n",
    "def neural_net_image_input(image_shape):\n",
    "    \"\"\"\n",
    "    Return a Tensor for a bach of image input\n",
    "    : image_shape: Shape of the images\n",
    "    : return: Tensor for image input.\n",
    "    \"\"\"\n",
    "    x = tf.placeholder(tf.float32, shape=[None, image_shape[0], image_shape[1], image_shape[2]], name=\"x\")\n",
    "    return x\n",
    "    \n",
    "    \n",
    "\n",
    "\n",
    "def neural_net_label_input(n_classes):\n",
    "    \"\"\"\n",
    "    Return a Tensor for a batch of label input\n",
    "    : n_classes: Number of classes\n",
    "    : return: Tensor for label input.\n",
    "    \"\"\"\n",
    "    y = tf.placeholder(tf.float32, shape=[None, n_classes], name=\"y\")\n",
    "    return y\n",
    "\n",
    "\n",
    "def neural_net_keep_prob_input():\n",
    "    \"\"\"\n",
    "    Return a Tensor for keep probability\n",
    "    : return: Tensor for keep probability.\n",
    "    \"\"\"\n",
    "    keep_prob = tf.placeholder(tf.float32, name=\"keep_prob\")\n",
    "    return keep_prob\n",
    "\n",
    "\n",
    "\"\"\"\n",
    "DON'T MODIFY ANYTHING IN THIS CELL THAT IS BELOW THIS LINE\n",
    "\"\"\"\n",
    "tf.reset_default_graph()\n",
    "tests.test_nn_image_inputs(neural_net_image_input)\n",
    "tests.test_nn_label_inputs(neural_net_label_input)\n",
    "tests.test_nn_keep_prob_inputs(neural_net_keep_prob_input)"
   ]
  },
  {
   "cell_type": "markdown",
   "metadata": {},
   "source": [
    "### Convolution and Max Pooling Layer\n",
    "Convolution layers have a lot of success with images. For this code cell, you should implement the function `conv2d_maxpool` to apply convolution then max pooling:\n",
    "* Create the weight and bias using `conv_ksize`, `conv_num_outputs` and the shape of `x_tensor`.\n",
    "* Apply a convolution to `x_tensor` using weight and `conv_strides`.\n",
    " * We recommend you use same padding, but you're welcome to use any padding.\n",
    "* Add bias\n",
    "* Add a nonlinear activation to the convolution.\n",
    "* Apply Max Pooling using `pool_ksize` and `pool_strides`.\n",
    " * We recommend you use same padding, but you're welcome to use any padding.\n",
    "\n",
    "Note: You **can't** use [TensorFlow Layers](https://www.tensorflow.org/api_docs/python/tf/layers) or [TensorFlow Layers (contrib)](https://www.tensorflow.org/api_guides/python/contrib.layers) for this layer.  You're free to use any TensorFlow package for all the other layers."
   ]
  },
  {
   "cell_type": "code",
   "execution_count": 68,
   "metadata": {
    "collapsed": false
   },
   "outputs": [
    {
     "name": "stdout",
     "output_type": "stream",
     "text": [
      "Tests Passed\n"
     ]
    }
   ],
   "source": [
    "def conv2d_maxpool(x_tensor, conv_num_outputs, conv_ksize, conv_strides, pool_ksize, pool_strides):\n",
    "    \"\"\"\n",
    "    Apply convolution then max pooling to x_tensor\n",
    "    :param x_tensor: TensorFlow Tensor\n",
    "    :param conv_num_outputs: Number of outputs for the convolutional layer\n",
    "    :param conv_strides: Stride 2-D Tuple for convolution\n",
    "    :param pool_ksize: kernal size 2-D Tuple for pool\n",
    "    :param pool_strides: Stride 2-D Tuple for pool\n",
    "    : return: A tensor that represents convolution and max pooling of x_tensor\n",
    "    \"\"\"\n",
    "    in_depth = int(x_tensor.shape[3])\n",
    "    out_depth = conv_num_outputs\n",
    "    w_shape = [*conv_ksize, in_depth, out_depth]\n",
    "    w = tf.Variable(tf.random_normal(w_shape, stddev=0.1))\n",
    "    b = tf.Variable(tf.zeros(out_depth))\n",
    "    \n",
    "    conv_strides = [1, *conv_strides, 1]\n",
    "    x = tf.nn.conv2d(x_tensor, w, strides=conv_strides, padding='SAME')\n",
    "    \n",
    "    x = tf.nn.bias_add(x, b)\n",
    "    x = tf.nn.relu(x)\n",
    "    \n",
    "    pool_ksize = [1, *pool_ksize, 1]\n",
    "    pool_strides = [1, *pool_strides, 1]\n",
    "    z = tf.nn.max_pool(x, pool_ksize, pool_strides, padding='SAME')\n",
    "    return z\n",
    "\n",
    "\n",
    "\n",
    "\"\"\"\n",
    "DON'T MODIFY ANYTHING IN THIS CELL THAT IS BELOW THIS LINE\n",
    "\"\"\"\n",
    "tests.test_con_pool(conv2d_maxpool)"
   ]
  },
  {
   "cell_type": "markdown",
   "metadata": {},
   "source": [
    "### Flatten Layer\n",
    "Implement the `flatten` function to change the dimension of `x_tensor` from a 4-D tensor to a 2-D tensor.  The output should be the shape (*Batch Size*, *Flattened Image Size*). You can use [TensorFlow Layers](https://www.tensorflow.org/api_docs/python/tf/layers) or [TensorFlow Layers (contrib)](https://www.tensorflow.org/api_guides/python/contrib.layers) for this layer."
   ]
  },
  {
   "cell_type": "code",
   "execution_count": 83,
   "metadata": {
    "collapsed": false
   },
   "outputs": [
    {
     "name": "stdout",
     "output_type": "stream",
     "text": [
      "Tests Passed\n"
     ]
    }
   ],
   "source": [
    "def flatten(x_tensor):\n",
    "    \"\"\"\n",
    "    Flatten x_tensor to (Batch Size, Flattened Image Size)\n",
    "    : x_tensor: A tensor of size (Batch Size, ...), where ... are the image dimensions.\n",
    "    : return: A tensor of size (Batch Size, Flattened Image Size).\n",
    "    \"\"\"\n",
    "    a = x_tensor.get_shape().as_list()[1:]\n",
    "    s = 1\n",
    "    for i in a:\n",
    "        s *= i\n",
    "    return tf.reshape(x_tensor, [-1, s])\n",
    "\n",
    "\n",
    "\"\"\"\n",
    "DON'T MODIFY ANYTHING IN THIS CELL THAT IS BELOW THIS LINE\n",
    "\"\"\"\n",
    "tests.test_flatten(flatten)"
   ]
  },
  {
   "cell_type": "markdown",
   "metadata": {},
   "source": [
    "### Fully-Connected Layer\n",
    "Implement the `fully_conn` function to apply a fully connected layer to `x_tensor` with the shape (*Batch Size*, *num_outputs*). You can use [TensorFlow Layers](https://www.tensorflow.org/api_docs/python/tf/layers) or [TensorFlow Layers (contrib)](https://www.tensorflow.org/api_guides/python/contrib.layers) for this layer."
   ]
  },
  {
   "cell_type": "code",
   "execution_count": 84,
   "metadata": {
    "collapsed": false
   },
   "outputs": [
    {
     "name": "stdout",
     "output_type": "stream",
     "text": [
      "Tests Passed\n"
     ]
    }
   ],
   "source": [
    "def fully_conn(x_tensor, num_outputs):\n",
    "    \"\"\"\n",
    "    Apply a fully connected layer to x_tensor using weight and bias\n",
    "    : x_tensor: A 2-D tensor where the first dimension is batch size.\n",
    "    : num_outputs: The number of output that the new tensor should be.\n",
    "    : return: A 2-D tensor where the second dimension is num_outputs.\n",
    "    \"\"\"\n",
    "    w_shape = (int(x_tensor.get_shape().as_list()[1]), num_outputs)\n",
    "    w = tf.Variable(tf.random_normal(w_shape, stddev=0.1))\n",
    "    b = tf.Variable(tf.zeros(num_outputs))\n",
    "    x = tf.add(tf.matmul(x_tensor, w), b)\n",
    "    x = tf.nn.relu(x)\n",
    "    return x\n",
    "    \n",
    "\n",
    "\n",
    "\"\"\"\n",
    "DON'T MODIFY ANYTHING IN THIS CELL THAT IS BELOW THIS LINE\n",
    "\"\"\"\n",
    "tests.test_fully_conn(fully_conn)"
   ]
  },
  {
   "cell_type": "markdown",
   "metadata": {},
   "source": [
    "### Output Layer\n",
    "Implement the `output` function to apply a fully connected layer to `x_tensor` with the shape (*Batch Size*, *num_outputs*). You can use [TensorFlow Layers](https://www.tensorflow.org/api_docs/python/tf/layers) or [TensorFlow Layers (contrib)](https://www.tensorflow.org/api_guides/python/contrib.layers) for this layer.\n",
    "\n",
    "Note: Activation, softmax, or cross entropy shouldn't be applied to this."
   ]
  },
  {
   "cell_type": "code",
   "execution_count": 85,
   "metadata": {
    "collapsed": false
   },
   "outputs": [
    {
     "name": "stdout",
     "output_type": "stream",
     "text": [
      "Tests Passed\n"
     ]
    }
   ],
   "source": [
    "def output(x_tensor, num_outputs):\n",
    "    \"\"\"\n",
    "    Apply a output layer to x_tensor using weight and bias\n",
    "    : x_tensor: A 2-D tensor where the first dimension is batch size.\n",
    "    : num_outputs: The number of output that the new tensor should be.\n",
    "    : return: A 2-D tensor where the second dimension is num_outputs.\n",
    "    \"\"\"\n",
    "    # TODO: Implement Function\n",
    "    w_shape = [int(x_tensor.get_shape().as_list()[1]), num_outputs]\n",
    "    w = tf.Variable(tf.random_normal(w_shape, stddev=0.1))\n",
    "    b = tf.Variable(tf.zeros(num_outputs))\n",
    "    x = tf.add(tf.matmul(x_tensor, w), b)\n",
    "    return x\n",
    "\n",
    "\n",
    "\"\"\"\n",
    "DON'T MODIFY ANYTHING IN THIS CELL THAT IS BELOW THIS LINE\n",
    "\"\"\"\n",
    "tests.test_output(output)"
   ]
  },
  {
   "cell_type": "markdown",
   "metadata": {},
   "source": [
    "### Create Convolutional Model\n",
    "Implement the function `conv_net` to create a convolutional neural network model. The function takes in a batch of images, `x`, and outputs logits.  Use the layers you created above to create this model:\n",
    "\n",
    "* Apply 1, 2, or 3 Convolution and Max Pool layers\n",
    "* Apply a Flatten Layer\n",
    "* Apply 1, 2, or 3 Fully Connected Layers\n",
    "* Apply an Output Layer\n",
    "* Return the output\n",
    "* Apply [TensorFlow's Dropout](https://www.tensorflow.org/api_docs/python/tf/nn/dropout) to one or more layers in the model using `keep_prob`. "
   ]
  },
  {
   "cell_type": "code",
   "execution_count": 100,
   "metadata": {
    "collapsed": false
   },
   "outputs": [
    {
     "name": "stdout",
     "output_type": "stream",
     "text": [
      "Neural Network Built!\n"
     ]
    }
   ],
   "source": [
    "def conv_net(x, keep_prob):\n",
    "    \"\"\"\n",
    "    Create a convolutional neural network model\n",
    "    : x: Placeholder tensor that holds image data.\n",
    "    : keep_prob: Placeholder tensor that hold dropout keep probability.\n",
    "    : return: Tensor that represents logits\n",
    "    \"\"\"\n",
    "    conv1 = conv2d_maxpool(x, 32, (3, 3), (1, 1), (2, 2), (2, 2))\n",
    "    conv2 = conv2d_maxpool(conv1, 32, (3, 3), (2, 2), (2, 2), (2, 2))\n",
    "    conv3 = conv2d_maxpool(conv2, 64, (3, 3), (1, 1), (2, 2), (2, 2))\n",
    "\n",
    "    fl4 = flatten(conv3)\n",
    "    \n",
    "    fc5 = fully_conn(fl4, 512)\n",
    "    fc5 = tf.nn.dropout(fc5, keep_prob)\n",
    "    fc6 = fully_conn(fc5, 128)\n",
    "    fc6 = tf.nn.dropout(fc6, keep_prob)\n",
    "    \n",
    "    out7 = output(fc6, 10)\n",
    "    return out7\n",
    "\n",
    "\n",
    "\"\"\"\n",
    "DON'T MODIFY ANYTHING IN THIS CELL THAT IS BELOW THIS LINE\n",
    "\"\"\"\n",
    "\n",
    "##############################\n",
    "## Build the Neural Network ##\n",
    "##############################\n",
    "\n",
    "# Remove previous weights, bias, inputs, etc..\n",
    "tf.reset_default_graph()\n",
    "\n",
    "# Inputs\n",
    "x = neural_net_image_input((32, 32, 3))\n",
    "y = neural_net_label_input(10)\n",
    "keep_prob = neural_net_keep_prob_input()\n",
    "\n",
    "# Model\n",
    "logits = conv_net(x, keep_prob)\n",
    "\n",
    "# Name logits Tensor, so that is can be loaded from disk after training\n",
    "logits = tf.identity(logits, name='logits')\n",
    "\n",
    "# Loss and Optimizer\n",
    "cost = tf.reduce_mean(tf.nn.softmax_cross_entropy_with_logits(logits=logits, labels=y))\n",
    "optimizer = tf.train.AdamOptimizer().minimize(cost)\n",
    "\n",
    "# Accuracy\n",
    "correct_pred = tf.equal(tf.argmax(logits, 1), tf.argmax(y, 1))\n",
    "accuracy = tf.reduce_mean(tf.cast(correct_pred, tf.float32), name='accuracy')\n",
    "\n",
    "tests.test_conv_net(conv_net)"
   ]
  },
  {
   "cell_type": "markdown",
   "metadata": {},
   "source": [
    "## Train the Neural Network\n",
    "### Single Optimization\n",
    "Implement the function `train_neural_network` to do a single optimization.  The optimization should use `optimizer` to optimize in `session` with a `feed_dict` of the following:\n",
    "* `x` for image input\n",
    "* `y` for labels\n",
    "* `keep_prob` for keep probability for dropout\n",
    "\n",
    "This function will be called for each batch, so `tf.global_variables_initializer()` has already been called.\n",
    "\n",
    "Note: Nothing needs to be returned. This function is only optimizing the neural network."
   ]
  },
  {
   "cell_type": "code",
   "execution_count": 87,
   "metadata": {
    "collapsed": false
   },
   "outputs": [
    {
     "name": "stdout",
     "output_type": "stream",
     "text": [
      "Tests Passed\n"
     ]
    }
   ],
   "source": [
    "def train_neural_network(session, optimizer, keep_probability, feature_batch, label_batch):\n",
    "    \"\"\"\n",
    "    Optimize the session on a batch of images and labels\n",
    "    : session: Current TensorFlow session\n",
    "    : optimizer: TensorFlow optimizer function\n",
    "    : keep_probability: keep probability\n",
    "    : feature_batch: Batch of Numpy image data\n",
    "    : label_batch: Batch of Numpy label data\n",
    "    \"\"\"\n",
    "    session.run(optimizer, feed_dict={\n",
    "                                      x: feature_batch,\n",
    "                                      y: label_batch,\n",
    "                                      keep_prob: keep_probability\n",
    "        })\n",
    "       \n",
    "\n",
    "\"\"\"\n",
    "DON'T MODIFY ANYTHING IN THIS CELL THAT IS BELOW THIS LINE\n",
    "\"\"\"\n",
    "tests.test_train_nn(train_neural_network)"
   ]
  },
  {
   "cell_type": "markdown",
   "metadata": {},
   "source": [
    "### Show Stats\n",
    "Implement the function `print_stats` to print loss and validation accuracy.  Use the global variables `valid_features` and `valid_labels` to calculate validation accuracy.  Use a keep probability of `1.0` to calculate the loss and validation accuracy."
   ]
  },
  {
   "cell_type": "code",
   "execution_count": 94,
   "metadata": {
    "collapsed": false
   },
   "outputs": [],
   "source": [
    "def print_stats(session, feature_batch, label_batch, cost, accuracy):\n",
    "    \"\"\"\n",
    "    Print information about loss and validation accuracy\n",
    "    : session: Current TensorFlow session\n",
    "    : feature_batch: Batch of Numpy image data\n",
    "    : label_batch: Batch of Numpy label data\n",
    "    : cost: TensorFlow cost function\n",
    "    : accuracy: TensorFlow accuracy function\n",
    "    \"\"\"\n",
    "    loss = session.run(cost, feed_dict={\n",
    "                                        x: feature_batch,\n",
    "                                        y: label_batch,\n",
    "                                        keep_prob: 1.0\n",
    "    })\n",
    "    \n",
    "    validation_accuracy = session.run(accuracy, feed_dict={\n",
    "                                                            x: valid_features,\n",
    "                                                            y: valid_labels,\n",
    "                                                            keep_prob: 1.0\n",
    "    })\n",
    "    print(\"loss: {:>10.4f}, validation accuracy: {:>.4f}\".format(loss, validation_accuracy))\n",
    "    "
   ]
  },
  {
   "cell_type": "markdown",
   "metadata": {},
   "source": [
    "### Hyperparameters\n",
    "Tune the following parameters:\n",
    "* Set `epochs` to the number of iterations until the network stops learning or start overfitting\n",
    "* Set `batch_size` to the highest number that your machine has memory for.  Most people set them to common sizes of memory:\n",
    " * 64\n",
    " * 128\n",
    " * 256\n",
    " * ...\n",
    "* Set `keep_probability` to the probability of keeping a node using dropout"
   ]
  },
  {
   "cell_type": "code",
   "execution_count": 95,
   "metadata": {
    "collapsed": true
   },
   "outputs": [],
   "source": [
    "epochs = 50\n",
    "batch_size = 256\n",
    "keep_probability = 0.5"
   ]
  },
  {
   "cell_type": "markdown",
   "metadata": {},
   "source": [
    "### Train on a Single CIFAR-10 Batch\n",
    "Instead of training the neural network on all the CIFAR-10 batches of data, let's use a single batch. This should save time while you iterate on the model to get a better accuracy.  Once the final validation accuracy is 50% or greater, run the model on all the data in the next section."
   ]
  },
  {
   "cell_type": "code",
   "execution_count": 96,
   "metadata": {
    "collapsed": false
   },
   "outputs": [
    {
     "name": "stdout",
     "output_type": "stream",
     "text": [
      "Checking the Training on a Single Batch...\n",
      "Epoch  1, CIFAR-10 Batch 1:  loss:     2.1929, validation accuracy: 0.2168\n",
      "Epoch  2, CIFAR-10 Batch 1:  loss:     2.0778, validation accuracy: 0.3056\n",
      "Epoch  3, CIFAR-10 Batch 1:  loss:     1.9237, validation accuracy: 0.3664\n",
      "Epoch  4, CIFAR-10 Batch 1:  loss:     1.7573, validation accuracy: 0.3950\n",
      "Epoch  5, CIFAR-10 Batch 1:  loss:     1.7358, validation accuracy: 0.3954\n",
      "Epoch  6, CIFAR-10 Batch 1:  loss:     1.5745, validation accuracy: 0.4178\n",
      "Epoch  7, CIFAR-10 Batch 1:  loss:     1.4201, validation accuracy: 0.4514\n",
      "Epoch  8, CIFAR-10 Batch 1:  loss:     1.2910, validation accuracy: 0.4632\n",
      "Epoch  9, CIFAR-10 Batch 1:  loss:     1.2197, validation accuracy: 0.4692\n",
      "Epoch 10, CIFAR-10 Batch 1:  loss:     1.0665, validation accuracy: 0.4872\n",
      "Epoch 11, CIFAR-10 Batch 1:  loss:     0.9742, validation accuracy: 0.4864\n",
      "Epoch 12, CIFAR-10 Batch 1:  loss:     0.9167, validation accuracy: 0.4994\n",
      "Epoch 13, CIFAR-10 Batch 1:  loss:     0.8286, validation accuracy: 0.5064\n",
      "Epoch 14, CIFAR-10 Batch 1:  loss:     0.7864, validation accuracy: 0.5014\n",
      "Epoch 15, CIFAR-10 Batch 1:  loss:     0.6923, validation accuracy: 0.5170\n",
      "Epoch 16, CIFAR-10 Batch 1:  loss:     0.6753, validation accuracy: 0.5116\n",
      "Epoch 17, CIFAR-10 Batch 1:  loss:     0.6489, validation accuracy: 0.5208\n",
      "Epoch 18, CIFAR-10 Batch 1:  loss:     0.6269, validation accuracy: 0.5086\n",
      "Epoch 19, CIFAR-10 Batch 1:  loss:     0.5286, validation accuracy: 0.5340\n",
      "Epoch 20, CIFAR-10 Batch 1:  loss:     0.4764, validation accuracy: 0.5386\n",
      "Epoch 21, CIFAR-10 Batch 1:  loss:     0.4635, validation accuracy: 0.5388\n",
      "Epoch 22, CIFAR-10 Batch 1:  loss:     0.4198, validation accuracy: 0.5382\n",
      "Epoch 23, CIFAR-10 Batch 1:  loss:     0.3822, validation accuracy: 0.5402\n",
      "Epoch 24, CIFAR-10 Batch 1:  loss:     0.3538, validation accuracy: 0.5504\n",
      "Epoch 25, CIFAR-10 Batch 1:  loss:     0.3202, validation accuracy: 0.5460\n",
      "Epoch 26, CIFAR-10 Batch 1:  loss:     0.3116, validation accuracy: 0.5470\n",
      "Epoch 27, CIFAR-10 Batch 1:  loss:     0.2960, validation accuracy: 0.5312\n",
      "Epoch 28, CIFAR-10 Batch 1:  loss:     0.2684, validation accuracy: 0.5544\n",
      "Epoch 29, CIFAR-10 Batch 1:  loss:     0.2479, validation accuracy: 0.5572\n",
      "Epoch 30, CIFAR-10 Batch 1:  loss:     0.2369, validation accuracy: 0.5508\n",
      "Epoch 31, CIFAR-10 Batch 1:  loss:     0.2091, validation accuracy: 0.5466\n",
      "Epoch 32, CIFAR-10 Batch 1:  loss:     0.2004, validation accuracy: 0.5496\n",
      "Epoch 33, CIFAR-10 Batch 1:  loss:     0.1824, validation accuracy: 0.5530\n",
      "Epoch 34, CIFAR-10 Batch 1:  loss:     0.1857, validation accuracy: 0.5410\n",
      "Epoch 35, CIFAR-10 Batch 1:  loss:     0.1655, validation accuracy: 0.5454\n",
      "Epoch 36, CIFAR-10 Batch 1:  loss:     0.1374, validation accuracy: 0.5454\n",
      "Epoch 37, CIFAR-10 Batch 1:  loss:     0.1365, validation accuracy: 0.5414\n",
      "Epoch 38, CIFAR-10 Batch 1:  loss:     0.1265, validation accuracy: 0.5424\n",
      "Epoch 39, CIFAR-10 Batch 1:  loss:     0.1164, validation accuracy: 0.5462\n",
      "Epoch 40, CIFAR-10 Batch 1:  loss:     0.1003, validation accuracy: 0.5526\n",
      "Epoch 41, CIFAR-10 Batch 1:  loss:     0.1136, validation accuracy: 0.5458\n",
      "Epoch 42, CIFAR-10 Batch 1:  loss:     0.1032, validation accuracy: 0.5412\n",
      "Epoch 43, CIFAR-10 Batch 1:  loss:     0.0985, validation accuracy: 0.5420\n",
      "Epoch 44, CIFAR-10 Batch 1:  loss:     0.1006, validation accuracy: 0.5086\n",
      "Epoch 45, CIFAR-10 Batch 1:  loss:     0.0725, validation accuracy: 0.5420\n",
      "Epoch 46, CIFAR-10 Batch 1:  loss:     0.0852, validation accuracy: 0.5452\n",
      "Epoch 47, CIFAR-10 Batch 1:  loss:     0.0840, validation accuracy: 0.5262\n",
      "Epoch 48, CIFAR-10 Batch 1:  loss:     0.0588, validation accuracy: 0.5394\n",
      "Epoch 49, CIFAR-10 Batch 1:  loss:     0.0560, validation accuracy: 0.5432\n",
      "Epoch 50, CIFAR-10 Batch 1:  loss:     0.0573, validation accuracy: 0.5384\n"
     ]
    }
   ],
   "source": [
    "\"\"\"\n",
    "DON'T MODIFY ANYTHING IN THIS CELL\n",
    "\"\"\"\n",
    "print('Checking the Training on a Single Batch...')\n",
    "with tf.Session() as sess:\n",
    "    # Initializing the variables\n",
    "    sess.run(tf.global_variables_initializer())\n",
    "    \n",
    "    # Training cycle\n",
    "    for epoch in range(epochs):\n",
    "        batch_i = 1\n",
    "        for batch_features, batch_labels in helper.load_preprocess_training_batch(batch_i, batch_size):\n",
    "            train_neural_network(sess, optimizer, keep_probability, batch_features, batch_labels)\n",
    "        print('Epoch {:>2}, CIFAR-10 Batch {}:  '.format(epoch + 1, batch_i), end='')\n",
    "        print_stats(sess, batch_features, batch_labels, cost, accuracy)"
   ]
  },
  {
   "cell_type": "markdown",
   "metadata": {},
   "source": [
    "### Fully Train the Model\n",
    "Now that you got a good accuracy with a single CIFAR-10 batch, try it with all five batches."
   ]
  },
  {
   "cell_type": "code",
   "execution_count": 97,
   "metadata": {
    "collapsed": false
   },
   "outputs": [
    {
     "name": "stdout",
     "output_type": "stream",
     "text": [
      "Training...\n",
      "Epoch  1, CIFAR-10 Batch 1:  loss:     2.2893, validation accuracy: 0.1616\n",
      "Epoch  1, CIFAR-10 Batch 2:  loss:     2.1109, validation accuracy: 0.2696\n",
      "Epoch  1, CIFAR-10 Batch 3:  loss:     1.8348, validation accuracy: 0.3568\n",
      "Epoch  1, CIFAR-10 Batch 4:  loss:     1.7786, validation accuracy: 0.3756\n",
      "Epoch  1, CIFAR-10 Batch 5:  loss:     1.6596, validation accuracy: 0.4006\n",
      "Epoch  2, CIFAR-10 Batch 1:  loss:     1.8185, validation accuracy: 0.4206\n",
      "Epoch  2, CIFAR-10 Batch 2:  loss:     1.6584, validation accuracy: 0.4462\n",
      "Epoch  2, CIFAR-10 Batch 3:  loss:     1.4319, validation accuracy: 0.4426\n",
      "Epoch  2, CIFAR-10 Batch 4:  loss:     1.4331, validation accuracy: 0.4606\n",
      "Epoch  2, CIFAR-10 Batch 5:  loss:     1.4839, validation accuracy: 0.4724\n",
      "Epoch  3, CIFAR-10 Batch 1:  loss:     1.4367, validation accuracy: 0.4942\n",
      "Epoch  3, CIFAR-10 Batch 2:  loss:     1.4705, validation accuracy: 0.4896\n",
      "Epoch  3, CIFAR-10 Batch 3:  loss:     1.2286, validation accuracy: 0.4792\n",
      "Epoch  3, CIFAR-10 Batch 4:  loss:     1.2160, validation accuracy: 0.5150\n",
      "Epoch  3, CIFAR-10 Batch 5:  loss:     1.3558, validation accuracy: 0.5008\n",
      "Epoch  4, CIFAR-10 Batch 1:  loss:     1.2233, validation accuracy: 0.5256\n",
      "Epoch  4, CIFAR-10 Batch 2:  loss:     1.2642, validation accuracy: 0.5228\n",
      "Epoch  4, CIFAR-10 Batch 3:  loss:     1.0441, validation accuracy: 0.5228\n",
      "Epoch  4, CIFAR-10 Batch 4:  loss:     1.0384, validation accuracy: 0.5424\n",
      "Epoch  4, CIFAR-10 Batch 5:  loss:     1.1458, validation accuracy: 0.5436\n",
      "Epoch  5, CIFAR-10 Batch 1:  loss:     1.0408, validation accuracy: 0.5410\n",
      "Epoch  5, CIFAR-10 Batch 2:  loss:     1.0914, validation accuracy: 0.5466\n",
      "Epoch  5, CIFAR-10 Batch 3:  loss:     0.9373, validation accuracy: 0.5542\n",
      "Epoch  5, CIFAR-10 Batch 4:  loss:     0.8844, validation accuracy: 0.5606\n",
      "Epoch  5, CIFAR-10 Batch 5:  loss:     1.0439, validation accuracy: 0.5512\n",
      "Epoch  6, CIFAR-10 Batch 1:  loss:     1.0048, validation accuracy: 0.5674\n",
      "Epoch  6, CIFAR-10 Batch 2:  loss:     0.9743, validation accuracy: 0.5610\n",
      "Epoch  6, CIFAR-10 Batch 3:  loss:     0.9005, validation accuracy: 0.5690\n",
      "Epoch  6, CIFAR-10 Batch 4:  loss:     0.8231, validation accuracy: 0.5798\n",
      "Epoch  6, CIFAR-10 Batch 5:  loss:     0.9229, validation accuracy: 0.5670\n",
      "Epoch  7, CIFAR-10 Batch 1:  loss:     0.8632, validation accuracy: 0.5784\n",
      "Epoch  7, CIFAR-10 Batch 2:  loss:     0.8774, validation accuracy: 0.5650\n",
      "Epoch  7, CIFAR-10 Batch 3:  loss:     0.7672, validation accuracy: 0.5890\n",
      "Epoch  7, CIFAR-10 Batch 4:  loss:     0.7181, validation accuracy: 0.5884\n",
      "Epoch  7, CIFAR-10 Batch 5:  loss:     0.7886, validation accuracy: 0.5902\n",
      "Epoch  8, CIFAR-10 Batch 1:  loss:     0.8119, validation accuracy: 0.5942\n",
      "Epoch  8, CIFAR-10 Batch 2:  loss:     0.8031, validation accuracy: 0.5892\n",
      "Epoch  8, CIFAR-10 Batch 3:  loss:     0.7712, validation accuracy: 0.5996\n",
      "Epoch  8, CIFAR-10 Batch 4:  loss:     0.6644, validation accuracy: 0.6048\n",
      "Epoch  8, CIFAR-10 Batch 5:  loss:     0.7156, validation accuracy: 0.5978\n",
      "Epoch  9, CIFAR-10 Batch 1:  loss:     0.7118, validation accuracy: 0.6080\n",
      "Epoch  9, CIFAR-10 Batch 2:  loss:     0.6861, validation accuracy: 0.6098\n",
      "Epoch  9, CIFAR-10 Batch 3:  loss:     0.6370, validation accuracy: 0.6114\n",
      "Epoch  9, CIFAR-10 Batch 4:  loss:     0.6183, validation accuracy: 0.5994\n",
      "Epoch  9, CIFAR-10 Batch 5:  loss:     0.6557, validation accuracy: 0.5886\n",
      "Epoch 10, CIFAR-10 Batch 1:  loss:     0.6771, validation accuracy: 0.6040\n",
      "Epoch 10, CIFAR-10 Batch 2:  loss:     0.6155, validation accuracy: 0.6114\n",
      "Epoch 10, CIFAR-10 Batch 3:  loss:     0.5910, validation accuracy: 0.6196\n",
      "Epoch 10, CIFAR-10 Batch 4:  loss:     0.5615, validation accuracy: 0.6198\n",
      "Epoch 10, CIFAR-10 Batch 5:  loss:     0.5643, validation accuracy: 0.6078\n",
      "Epoch 11, CIFAR-10 Batch 1:  loss:     0.6002, validation accuracy: 0.6170\n",
      "Epoch 11, CIFAR-10 Batch 2:  loss:     0.5941, validation accuracy: 0.6180\n",
      "Epoch 11, CIFAR-10 Batch 3:  loss:     0.5128, validation accuracy: 0.6212\n",
      "Epoch 11, CIFAR-10 Batch 4:  loss:     0.5296, validation accuracy: 0.6152\n",
      "Epoch 11, CIFAR-10 Batch 5:  loss:     0.5224, validation accuracy: 0.6188\n",
      "Epoch 12, CIFAR-10 Batch 1:  loss:     0.5398, validation accuracy: 0.6324\n",
      "Epoch 12, CIFAR-10 Batch 2:  loss:     0.5063, validation accuracy: 0.6284\n",
      "Epoch 12, CIFAR-10 Batch 3:  loss:     0.4762, validation accuracy: 0.6302\n",
      "Epoch 12, CIFAR-10 Batch 4:  loss:     0.4441, validation accuracy: 0.6348\n",
      "Epoch 12, CIFAR-10 Batch 5:  loss:     0.4592, validation accuracy: 0.6386\n",
      "Epoch 13, CIFAR-10 Batch 1:  loss:     0.5031, validation accuracy: 0.6252\n",
      "Epoch 13, CIFAR-10 Batch 2:  loss:     0.4346, validation accuracy: 0.6216\n",
      "Epoch 13, CIFAR-10 Batch 3:  loss:     0.4276, validation accuracy: 0.6268\n",
      "Epoch 13, CIFAR-10 Batch 4:  loss:     0.4135, validation accuracy: 0.6284\n",
      "Epoch 13, CIFAR-10 Batch 5:  loss:     0.4136, validation accuracy: 0.6428\n",
      "Epoch 14, CIFAR-10 Batch 1:  loss:     0.4543, validation accuracy: 0.6418\n",
      "Epoch 14, CIFAR-10 Batch 2:  loss:     0.4229, validation accuracy: 0.6220\n",
      "Epoch 14, CIFAR-10 Batch 3:  loss:     0.3930, validation accuracy: 0.6418\n",
      "Epoch 14, CIFAR-10 Batch 4:  loss:     0.4098, validation accuracy: 0.6278\n",
      "Epoch 14, CIFAR-10 Batch 5:  loss:     0.3743, validation accuracy: 0.6524\n",
      "Epoch 15, CIFAR-10 Batch 1:  loss:     0.4044, validation accuracy: 0.6466\n",
      "Epoch 15, CIFAR-10 Batch 2:  loss:     0.3440, validation accuracy: 0.6282\n",
      "Epoch 15, CIFAR-10 Batch 3:  loss:     0.3737, validation accuracy: 0.6452\n",
      "Epoch 15, CIFAR-10 Batch 4:  loss:     0.3746, validation accuracy: 0.6164\n",
      "Epoch 15, CIFAR-10 Batch 5:  loss:     0.3308, validation accuracy: 0.6586\n",
      "Epoch 16, CIFAR-10 Batch 1:  loss:     0.4130, validation accuracy: 0.6550\n",
      "Epoch 16, CIFAR-10 Batch 2:  loss:     0.3063, validation accuracy: 0.6438\n",
      "Epoch 16, CIFAR-10 Batch 3:  loss:     0.3358, validation accuracy: 0.6434\n",
      "Epoch 16, CIFAR-10 Batch 4:  loss:     0.3333, validation accuracy: 0.6458\n",
      "Epoch 16, CIFAR-10 Batch 5:  loss:     0.3276, validation accuracy: 0.6532\n",
      "Epoch 17, CIFAR-10 Batch 1:  loss:     0.3552, validation accuracy: 0.6582\n",
      "Epoch 17, CIFAR-10 Batch 2:  loss:     0.3074, validation accuracy: 0.6442\n",
      "Epoch 17, CIFAR-10 Batch 3:  loss:     0.3384, validation accuracy: 0.6546\n",
      "Epoch 17, CIFAR-10 Batch 4:  loss:     0.2975, validation accuracy: 0.6418\n",
      "Epoch 17, CIFAR-10 Batch 5:  loss:     0.3020, validation accuracy: 0.6590\n",
      "Epoch 18, CIFAR-10 Batch 1:  loss:     0.3375, validation accuracy: 0.6552\n",
      "Epoch 18, CIFAR-10 Batch 2:  loss:     0.3127, validation accuracy: 0.6466\n",
      "Epoch 18, CIFAR-10 Batch 3:  loss:     0.2781, validation accuracy: 0.6618\n",
      "Epoch 18, CIFAR-10 Batch 4:  loss:     0.2599, validation accuracy: 0.6468\n",
      "Epoch 18, CIFAR-10 Batch 5:  loss:     0.2393, validation accuracy: 0.6634\n",
      "Epoch 19, CIFAR-10 Batch 1:  loss:     0.2817, validation accuracy: 0.6574\n",
      "Epoch 19, CIFAR-10 Batch 2:  loss:     0.2538, validation accuracy: 0.6542\n",
      "Epoch 19, CIFAR-10 Batch 3:  loss:     0.2557, validation accuracy: 0.6578\n",
      "Epoch 19, CIFAR-10 Batch 4:  loss:     0.2367, validation accuracy: 0.6604\n",
      "Epoch 19, CIFAR-10 Batch 5:  loss:     0.2211, validation accuracy: 0.6612\n",
      "Epoch 20, CIFAR-10 Batch 1:  loss:     0.2589, validation accuracy: 0.6640\n",
      "Epoch 20, CIFAR-10 Batch 2:  loss:     0.2095, validation accuracy: 0.6590\n",
      "Epoch 20, CIFAR-10 Batch 3:  loss:     0.2455, validation accuracy: 0.6620\n",
      "Epoch 20, CIFAR-10 Batch 4:  loss:     0.1919, validation accuracy: 0.6684\n",
      "Epoch 20, CIFAR-10 Batch 5:  loss:     0.2148, validation accuracy: 0.6642\n",
      "Epoch 21, CIFAR-10 Batch 1:  loss:     0.2504, validation accuracy: 0.6696\n",
      "Epoch 21, CIFAR-10 Batch 2:  loss:     0.1969, validation accuracy: 0.6538\n",
      "Epoch 21, CIFAR-10 Batch 3:  loss:     0.2144, validation accuracy: 0.6694\n",
      "Epoch 21, CIFAR-10 Batch 4:  loss:     0.2049, validation accuracy: 0.6640\n",
      "Epoch 21, CIFAR-10 Batch 5:  loss:     0.2011, validation accuracy: 0.6648\n",
      "Epoch 22, CIFAR-10 Batch 1:  loss:     0.2147, validation accuracy: 0.6566\n",
      "Epoch 22, CIFAR-10 Batch 2:  loss:     0.1961, validation accuracy: 0.6568\n",
      "Epoch 22, CIFAR-10 Batch 3:  loss:     0.1889, validation accuracy: 0.6692\n",
      "Epoch 22, CIFAR-10 Batch 4:  loss:     0.1616, validation accuracy: 0.6640\n",
      "Epoch 22, CIFAR-10 Batch 5:  loss:     0.1834, validation accuracy: 0.6708\n",
      "Epoch 23, CIFAR-10 Batch 1:  loss:     0.2125, validation accuracy: 0.6574\n",
      "Epoch 23, CIFAR-10 Batch 2:  loss:     0.2090, validation accuracy: 0.6390\n",
      "Epoch 23, CIFAR-10 Batch 3:  loss:     0.1842, validation accuracy: 0.6700\n",
      "Epoch 23, CIFAR-10 Batch 4:  loss:     0.1738, validation accuracy: 0.6642\n",
      "Epoch 23, CIFAR-10 Batch 5:  loss:     0.1585, validation accuracy: 0.6710\n",
      "Epoch 24, CIFAR-10 Batch 1:  loss:     0.1889, validation accuracy: 0.6646\n",
      "Epoch 24, CIFAR-10 Batch 2:  loss:     0.1689, validation accuracy: 0.6714\n",
      "Epoch 24, CIFAR-10 Batch 3:  loss:     0.1669, validation accuracy: 0.6644\n",
      "Epoch 24, CIFAR-10 Batch 4:  loss:     0.1608, validation accuracy: 0.6698\n",
      "Epoch 24, CIFAR-10 Batch 5:  loss:     0.1495, validation accuracy: 0.6654\n",
      "Epoch 25, CIFAR-10 Batch 1:  loss:     0.1703, validation accuracy: 0.6750\n",
      "Epoch 25, CIFAR-10 Batch 2:  loss:     0.1617, validation accuracy: 0.6450\n",
      "Epoch 25, CIFAR-10 Batch 3:  loss:     0.1533, validation accuracy: 0.6608\n",
      "Epoch 25, CIFAR-10 Batch 4:  loss:     0.1263, validation accuracy: 0.6694\n",
      "Epoch 25, CIFAR-10 Batch 5:  loss:     0.1372, validation accuracy: 0.6690\n",
      "Epoch 26, CIFAR-10 Batch 1:  loss:     0.1857, validation accuracy: 0.6648\n",
      "Epoch 26, CIFAR-10 Batch 2:  loss:     0.1546, validation accuracy: 0.6652\n",
      "Epoch 26, CIFAR-10 Batch 3:  loss:     0.1390, validation accuracy: 0.6676\n",
      "Epoch 26, CIFAR-10 Batch 4:  loss:     0.1195, validation accuracy: 0.6734\n",
      "Epoch 26, CIFAR-10 Batch 5:  loss:     0.1376, validation accuracy: 0.6568\n",
      "Epoch 27, CIFAR-10 Batch 1:  loss:     0.1878, validation accuracy: 0.6538\n",
      "Epoch 27, CIFAR-10 Batch 2:  loss:     0.1491, validation accuracy: 0.6800\n",
      "Epoch 27, CIFAR-10 Batch 3:  loss:     0.1265, validation accuracy: 0.6698\n",
      "Epoch 27, CIFAR-10 Batch 4:  loss:     0.1102, validation accuracy: 0.6722\n",
      "Epoch 27, CIFAR-10 Batch 5:  loss:     0.1064, validation accuracy: 0.6708\n",
      "Epoch 28, CIFAR-10 Batch 1:  loss:     0.1581, validation accuracy: 0.6656\n",
      "Epoch 28, CIFAR-10 Batch 2:  loss:     0.1556, validation accuracy: 0.6700\n",
      "Epoch 28, CIFAR-10 Batch 3:  loss:     0.1409, validation accuracy: 0.6598\n",
      "Epoch 28, CIFAR-10 Batch 4:  loss:     0.1209, validation accuracy: 0.6694\n",
      "Epoch 28, CIFAR-10 Batch 5:  loss:     0.1155, validation accuracy: 0.6588\n",
      "Epoch 29, CIFAR-10 Batch 1:  loss:     0.1418, validation accuracy: 0.6656\n",
      "Epoch 29, CIFAR-10 Batch 2:  loss:     0.1554, validation accuracy: 0.6690\n",
      "Epoch 29, CIFAR-10 Batch 3:  loss:     0.1231, validation accuracy: 0.6572\n",
      "Epoch 29, CIFAR-10 Batch 4:  loss:     0.1163, validation accuracy: 0.6662\n",
      "Epoch 29, CIFAR-10 Batch 5:  loss:     0.1010, validation accuracy: 0.6716\n",
      "Epoch 30, CIFAR-10 Batch 1:  loss:     0.1266, validation accuracy: 0.6692\n",
      "Epoch 30, CIFAR-10 Batch 2:  loss:     0.1653, validation accuracy: 0.6734\n",
      "Epoch 30, CIFAR-10 Batch 3:  loss:     0.1015, validation accuracy: 0.6724\n",
      "Epoch 30, CIFAR-10 Batch 4:  loss:     0.0974, validation accuracy: 0.6734\n",
      "Epoch 30, CIFAR-10 Batch 5:  loss:     0.1062, validation accuracy: 0.6698\n",
      "Epoch 31, CIFAR-10 Batch 1:  loss:     0.1157, validation accuracy: 0.6774\n",
      "Epoch 31, CIFAR-10 Batch 2:  loss:     0.1113, validation accuracy: 0.6630\n",
      "Epoch 31, CIFAR-10 Batch 3:  loss:     0.0958, validation accuracy: 0.6764\n",
      "Epoch 31, CIFAR-10 Batch 4:  loss:     0.0996, validation accuracy: 0.6732\n",
      "Epoch 31, CIFAR-10 Batch 5:  loss:     0.0763, validation accuracy: 0.6662\n",
      "Epoch 32, CIFAR-10 Batch 1:  loss:     0.1077, validation accuracy: 0.6844\n",
      "Epoch 32, CIFAR-10 Batch 2:  loss:     0.0962, validation accuracy: 0.6744\n",
      "Epoch 32, CIFAR-10 Batch 3:  loss:     0.0919, validation accuracy: 0.6746\n",
      "Epoch 32, CIFAR-10 Batch 4:  loss:     0.0823, validation accuracy: 0.6836\n",
      "Epoch 32, CIFAR-10 Batch 5:  loss:     0.0524, validation accuracy: 0.6828\n",
      "Epoch 33, CIFAR-10 Batch 1:  loss:     0.1146, validation accuracy: 0.6762\n",
      "Epoch 33, CIFAR-10 Batch 2:  loss:     0.1350, validation accuracy: 0.6624\n",
      "Epoch 33, CIFAR-10 Batch 3:  loss:     0.0759, validation accuracy: 0.6728\n",
      "Epoch 33, CIFAR-10 Batch 4:  loss:     0.0681, validation accuracy: 0.6792\n",
      "Epoch 33, CIFAR-10 Batch 5:  loss:     0.0715, validation accuracy: 0.6836\n",
      "Epoch 34, CIFAR-10 Batch 1:  loss:     0.1156, validation accuracy: 0.6696\n",
      "Epoch 34, CIFAR-10 Batch 2:  loss:     0.0996, validation accuracy: 0.6560\n",
      "Epoch 34, CIFAR-10 Batch 3:  loss:     0.0752, validation accuracy: 0.6828\n",
      "Epoch 34, CIFAR-10 Batch 4:  loss:     0.0752, validation accuracy: 0.6822\n",
      "Epoch 34, CIFAR-10 Batch 5:  loss:     0.0641, validation accuracy: 0.6818\n",
      "Epoch 35, CIFAR-10 Batch 1:  loss:     0.1269, validation accuracy: 0.6520\n",
      "Epoch 35, CIFAR-10 Batch 2:  loss:     0.1141, validation accuracy: 0.6504\n",
      "Epoch 35, CIFAR-10 Batch 3:  loss:     0.0758, validation accuracy: 0.6852\n",
      "Epoch 35, CIFAR-10 Batch 4:  loss:     0.0682, validation accuracy: 0.6784\n",
      "Epoch 35, CIFAR-10 Batch 5:  loss:     0.0602, validation accuracy: 0.6840\n",
      "Epoch 36, CIFAR-10 Batch 1:  loss:     0.1210, validation accuracy: 0.6490\n",
      "Epoch 36, CIFAR-10 Batch 2:  loss:     0.1081, validation accuracy: 0.6584\n",
      "Epoch 36, CIFAR-10 Batch 3:  loss:     0.0652, validation accuracy: 0.6880\n",
      "Epoch 36, CIFAR-10 Batch 4:  loss:     0.0645, validation accuracy: 0.6800\n",
      "Epoch 36, CIFAR-10 Batch 5:  loss:     0.0556, validation accuracy: 0.6864\n",
      "Epoch 37, CIFAR-10 Batch 1:  loss:     0.1223, validation accuracy: 0.6568\n",
      "Epoch 37, CIFAR-10 Batch 2:  loss:     0.0993, validation accuracy: 0.6556\n",
      "Epoch 37, CIFAR-10 Batch 3:  loss:     0.0800, validation accuracy: 0.6866\n",
      "Epoch 37, CIFAR-10 Batch 4:  loss:     0.0795, validation accuracy: 0.6720\n",
      "Epoch 37, CIFAR-10 Batch 5:  loss:     0.0512, validation accuracy: 0.6824\n",
      "Epoch 38, CIFAR-10 Batch 1:  loss:     0.1147, validation accuracy: 0.6564\n",
      "Epoch 38, CIFAR-10 Batch 2:  loss:     0.0956, validation accuracy: 0.6606\n",
      "Epoch 38, CIFAR-10 Batch 3:  loss:     0.0787, validation accuracy: 0.6848\n",
      "Epoch 38, CIFAR-10 Batch 4:  loss:     0.0626, validation accuracy: 0.6740\n",
      "Epoch 38, CIFAR-10 Batch 5:  loss:     0.0428, validation accuracy: 0.6854\n",
      "Epoch 39, CIFAR-10 Batch 1:  loss:     0.1096, validation accuracy: 0.6456\n",
      "Epoch 39, CIFAR-10 Batch 2:  loss:     0.0693, validation accuracy: 0.6728\n",
      "Epoch 39, CIFAR-10 Batch 3:  loss:     0.0707, validation accuracy: 0.6798\n",
      "Epoch 39, CIFAR-10 Batch 4:  loss:     0.0613, validation accuracy: 0.6804\n",
      "Epoch 39, CIFAR-10 Batch 5:  loss:     0.0602, validation accuracy: 0.6688\n",
      "Epoch 40, CIFAR-10 Batch 1:  loss:     0.0946, validation accuracy: 0.6502\n",
      "Epoch 40, CIFAR-10 Batch 2:  loss:     0.0806, validation accuracy: 0.6680\n",
      "Epoch 40, CIFAR-10 Batch 3:  loss:     0.0526, validation accuracy: 0.6886\n",
      "Epoch 40, CIFAR-10 Batch 4:  loss:     0.0614, validation accuracy: 0.6786\n",
      "Epoch 40, CIFAR-10 Batch 5:  loss:     0.0471, validation accuracy: 0.6686\n",
      "Epoch 41, CIFAR-10 Batch 1:  loss:     0.0933, validation accuracy: 0.6594\n",
      "Epoch 41, CIFAR-10 Batch 2:  loss:     0.0828, validation accuracy: 0.6704\n",
      "Epoch 41, CIFAR-10 Batch 3:  loss:     0.0589, validation accuracy: 0.6712\n",
      "Epoch 41, CIFAR-10 Batch 4:  loss:     0.0519, validation accuracy: 0.6766\n",
      "Epoch 41, CIFAR-10 Batch 5:  loss:     0.0373, validation accuracy: 0.6704\n",
      "Epoch 42, CIFAR-10 Batch 1:  loss:     0.1173, validation accuracy: 0.6560\n",
      "Epoch 42, CIFAR-10 Batch 2:  loss:     0.0605, validation accuracy: 0.6592\n",
      "Epoch 42, CIFAR-10 Batch 3:  loss:     0.0397, validation accuracy: 0.6890\n",
      "Epoch 42, CIFAR-10 Batch 4:  loss:     0.0560, validation accuracy: 0.6810\n",
      "Epoch 42, CIFAR-10 Batch 5:  loss:     0.0523, validation accuracy: 0.6632\n",
      "Epoch 43, CIFAR-10 Batch 1:  loss:     0.0941, validation accuracy: 0.6664\n",
      "Epoch 43, CIFAR-10 Batch 2:  loss:     0.0732, validation accuracy: 0.6732\n",
      "Epoch 43, CIFAR-10 Batch 3:  loss:     0.0586, validation accuracy: 0.6784\n",
      "Epoch 43, CIFAR-10 Batch 4:  loss:     0.0563, validation accuracy: 0.6782\n",
      "Epoch 43, CIFAR-10 Batch 5:  loss:     0.0339, validation accuracy: 0.6606\n",
      "Epoch 44, CIFAR-10 Batch 1:  loss:     0.0697, validation accuracy: 0.6676\n",
      "Epoch 44, CIFAR-10 Batch 2:  loss:     0.0683, validation accuracy: 0.6746\n",
      "Epoch 44, CIFAR-10 Batch 3:  loss:     0.0476, validation accuracy: 0.6680\n",
      "Epoch 44, CIFAR-10 Batch 4:  loss:     0.0538, validation accuracy: 0.6764\n",
      "Epoch 44, CIFAR-10 Batch 5:  loss:     0.0375, validation accuracy: 0.6812\n",
      "Epoch 45, CIFAR-10 Batch 1:  loss:     0.0718, validation accuracy: 0.6684\n",
      "Epoch 45, CIFAR-10 Batch 2:  loss:     0.0653, validation accuracy: 0.6778\n",
      "Epoch 45, CIFAR-10 Batch 3:  loss:     0.0588, validation accuracy: 0.6666\n",
      "Epoch 45, CIFAR-10 Batch 4:  loss:     0.0698, validation accuracy: 0.6720\n",
      "Epoch 45, CIFAR-10 Batch 5:  loss:     0.0344, validation accuracy: 0.6790\n",
      "Epoch 46, CIFAR-10 Batch 1:  loss:     0.0543, validation accuracy: 0.6702\n",
      "Epoch 46, CIFAR-10 Batch 2:  loss:     0.0490, validation accuracy: 0.6716\n",
      "Epoch 46, CIFAR-10 Batch 3:  loss:     0.0497, validation accuracy: 0.6746\n",
      "Epoch 46, CIFAR-10 Batch 4:  loss:     0.0449, validation accuracy: 0.6726\n",
      "Epoch 46, CIFAR-10 Batch 5:  loss:     0.0240, validation accuracy: 0.6806\n",
      "Epoch 47, CIFAR-10 Batch 1:  loss:     0.0524, validation accuracy: 0.6678\n",
      "Epoch 47, CIFAR-10 Batch 2:  loss:     0.0617, validation accuracy: 0.6824\n",
      "Epoch 47, CIFAR-10 Batch 3:  loss:     0.0454, validation accuracy: 0.6792\n",
      "Epoch 47, CIFAR-10 Batch 4:  loss:     0.0430, validation accuracy: 0.6710\n",
      "Epoch 47, CIFAR-10 Batch 5:  loss:     0.0370, validation accuracy: 0.6758\n",
      "Epoch 48, CIFAR-10 Batch 1:  loss:     0.0577, validation accuracy: 0.6606\n",
      "Epoch 48, CIFAR-10 Batch 2:  loss:     0.0569, validation accuracy: 0.6820\n",
      "Epoch 48, CIFAR-10 Batch 3:  loss:     0.0345, validation accuracy: 0.6850\n",
      "Epoch 48, CIFAR-10 Batch 4:  loss:     0.0443, validation accuracy: 0.6768\n",
      "Epoch 48, CIFAR-10 Batch 5:  loss:     0.0254, validation accuracy: 0.6738\n",
      "Epoch 49, CIFAR-10 Batch 1:  loss:     0.0641, validation accuracy: 0.6756\n",
      "Epoch 49, CIFAR-10 Batch 2:  loss:     0.0509, validation accuracy: 0.6742\n",
      "Epoch 49, CIFAR-10 Batch 3:  loss:     0.0337, validation accuracy: 0.6850\n",
      "Epoch 49, CIFAR-10 Batch 4:  loss:     0.0503, validation accuracy: 0.6828\n",
      "Epoch 49, CIFAR-10 Batch 5:  loss:     0.0234, validation accuracy: 0.6786\n",
      "Epoch 50, CIFAR-10 Batch 1:  loss:     0.0450, validation accuracy: 0.6650\n",
      "Epoch 50, CIFAR-10 Batch 2:  loss:     0.0305, validation accuracy: 0.6872\n",
      "Epoch 50, CIFAR-10 Batch 3:  loss:     0.0479, validation accuracy: 0.6650\n",
      "Epoch 50, CIFAR-10 Batch 4:  loss:     0.0403, validation accuracy: 0.6792\n",
      "Epoch 50, CIFAR-10 Batch 5:  loss:     0.0261, validation accuracy: 0.6702\n"
     ]
    }
   ],
   "source": [
    "\"\"\"\n",
    "DON'T MODIFY ANYTHING IN THIS CELL\n",
    "\"\"\"\n",
    "save_model_path = './image_classification'\n",
    "\n",
    "print('Training...')\n",
    "with tf.Session() as sess:\n",
    "    # Initializing the variables\n",
    "    sess.run(tf.global_variables_initializer())\n",
    "    \n",
    "    # Training cycle\n",
    "    for epoch in range(epochs):\n",
    "        # Loop over all batches\n",
    "        n_batches = 5\n",
    "        for batch_i in range(1, n_batches + 1):\n",
    "            for batch_features, batch_labels in helper.load_preprocess_training_batch(batch_i, batch_size):\n",
    "                train_neural_network(sess, optimizer, keep_probability, batch_features, batch_labels)\n",
    "            print('Epoch {:>2}, CIFAR-10 Batch {}:  '.format(epoch + 1, batch_i), end='')\n",
    "            print_stats(sess, batch_features, batch_labels, cost, accuracy)\n",
    "            \n",
    "    # Save Model\n",
    "    saver = tf.train.Saver()\n",
    "    save_path = saver.save(sess, save_model_path)"
   ]
  },
  {
   "cell_type": "markdown",
   "metadata": {},
   "source": [
    "# Checkpoint\n",
    "The model has been saved to disk.\n",
    "## Test Model\n",
    "Test your model against the test dataset.  This will be your final accuracy. You should have an accuracy greater than 50%. If you don't, keep tweaking the model architecture and parameters."
   ]
  },
  {
   "cell_type": "code",
   "execution_count": 98,
   "metadata": {
    "collapsed": false
   },
   "outputs": [
    {
     "name": "stdout",
     "output_type": "stream",
     "text": [
      "Testing Accuracy: 0.6751953125\n",
      "\n"
     ]
    },
    {
     "data": {
      "image/png": "[encoded data removed]",
      "text/plain": [
       "<matplotlib.figure.Figure at 0x11ed16160>"
      ]
     },
     "metadata": {
      "image/png": {
       "height": 319,
       "width": 355
      }
     },
     "output_type": "display_data"
    }
   ],
   "source": [
    "\"\"\"\n",
    "DON'T MODIFY ANYTHING IN THIS CELL\n",
    "\"\"\"\n",
    "%matplotlib inline\n",
    "%config InlineBackend.figure_format = 'retina'\n",
    "\n",
    "import tensorflow as tf\n",
    "import pickle\n",
    "import helper\n",
    "import random\n",
    "\n",
    "# Set batch size if not already set\n",
    "try:\n",
    "    if batch_size:\n",
    "        pass\n",
    "except NameError:\n",
    "    batch_size = 64\n",
    "\n",
    "save_model_path = './image_classification'\n",
    "n_samples = 4\n",
    "top_n_predictions = 3\n",
    "\n",
    "def test_model():\n",
    "    \"\"\"\n",
    "    Test the saved model against the test dataset\n",
    "    \"\"\"\n",
    "\n",
    "    test_features, test_labels = pickle.load(open('preprocess_training.p', mode='rb'))\n",
    "    loaded_graph = tf.Graph()\n",
    "\n",
    "    with tf.Session(graph=loaded_graph) as sess:\n",
    "        # Load model\n",
    "        loader = tf.train.import_meta_graph(save_model_path + '.meta')\n",
    "        loader.restore(sess, save_model_path)\n",
    "\n",
    "        # Get Tensors from loaded model\n",
    "        loaded_x = loaded_graph.get_tensor_by_name('x:0')\n",
    "        loaded_y = loaded_graph.get_tensor_by_name('y:0')\n",
    "        loaded_keep_prob = loaded_graph.get_tensor_by_name('keep_prob:0')\n",
    "        loaded_logits = loaded_graph.get_tensor_by_name('logits:0')\n",
    "        loaded_acc = loaded_graph.get_tensor_by_name('accuracy:0')\n",
    "        \n",
    "        # Get accuracy in batches for memory limitations\n",
    "        test_batch_acc_total = 0\n",
    "        test_batch_count = 0\n",
    "        \n",
    "        for train_feature_batch, train_label_batch in helper.batch_features_labels(test_features, test_labels, batch_size):\n",
    "            test_batch_acc_total += sess.run(\n",
    "                loaded_acc,\n",
    "                feed_dict={loaded_x: train_feature_batch, loaded_y: train_label_batch, loaded_keep_prob: 1.0})\n",
    "            test_batch_count += 1\n",
    "\n",
    "        print('Testing Accuracy: {}\\n'.format(test_batch_acc_total/test_batch_count))\n",
    "\n",
    "        # Print Random Samples\n",
    "        random_test_features, random_test_labels = tuple(zip(*random.sample(list(zip(test_features, test_labels)), n_samples)))\n",
    "        random_test_predictions = sess.run(\n",
    "            tf.nn.top_k(tf.nn.softmax(loaded_logits), top_n_predictions),\n",
    "            feed_dict={loaded_x: random_test_features, loaded_y: random_test_labels, loaded_keep_prob: 1.0})\n",
    "        helper.display_image_predictions(random_test_features, random_test_labels, random_test_predictions)\n",
    "\n",
    "\n",
    "test_model()"
   ]
  },
  {
   "cell_type": "markdown",
   "metadata": {},
   "source": [
    "## Why 50-70% Accuracy?\n",
    "You might be wondering why you can't get an accuracy any higher. First things first, 50% isn't bad for a simple CNN.  Pure guessing would get you 10% accuracy. However, you might notice people are getting scores [well above 70%](http://rodrigob.github.io/are_we_there_yet/build/classification_datasets_results.html#43494641522d3130).  That's because we haven't taught you all there is to know about neural networks. We still need to cover a few more techniques.\n",
    "## Submitting This Project\n",
    "When submitting this project, make sure to run all the cells before saving the notebook.  Save the notebook file as \"dlnd_image_classification.ipynb\" and save it as a HTML file under \"File\" -> \"Download as\".  Include the \"helper.py\" and \"problem_unittests.py\" files in your submission."
   ]
  }
 ],
 "metadata": {
  "kernelspec": {
   "display_name": "Python 3",
   "language": "python",
   "name": "python3"
  },
  "language_info": {
   "codemirror_mode": {
    "name": "ipython",
    "version": 3
   },
   "file_extension": ".py",
   "mimetype": "text/x-python",
   "name": "python",
   "nbconvert_exporter": "python",
   "pygments_lexer": "ipython3",
   "version": "3.5.0"
  }
 },
 "nbformat": 4,
 "nbformat_minor": 0
}
